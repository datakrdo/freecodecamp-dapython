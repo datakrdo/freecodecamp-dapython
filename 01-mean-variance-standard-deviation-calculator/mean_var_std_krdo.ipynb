{
 "cells": [
  {
   "cell_type": "markdown",
   "id": "5c7557d0",
   "metadata": {},
   "source": [
    "## <center>freeCodeCamp (🔥) - Data Analysis with Python</center>\n",
    "\n",
    "### Project 1 - Mean-Variance-Standard Deviation Calculator [🔗](https://www.freecodecamp.org/learn/data-analysis-with-python/data-analysis-with-python-projects/mean-variance-standard-deviation-calculator)\n",
    "\n",
    "\n",
    "Create a function named <mark>calculate()</mark> in <mark>mean_var_std.py</mark> that uses Numpy to output the mean, variance, standard deviation, max, min, and sum of the rows, columns, and elements in a 3 x 3 matrix.\n",
    "\n",
    "The input of the function should be a list containing 9 digits. The function should convert the list into a 3 x 3 Numpy array, and then return a dictionary containing the mean, variance, standard deviation, max, min, and sum along both axes and for the flattened matrix.\n",
    "\n",
    "The returned dictionary should follow this format:\n",
    "\n",
    "`{\n",
    "  'mean': [axis1, axis2, flattened],\n",
    "  'variance': [axis1, axis2, flattened],\n",
    "  'standard deviation': [axis1, axis2, flattened],\n",
    "  'max': [axis1, axis2, flattened],\n",
    "  'min': [axis1, axis2, flattened],\n",
    "  'sum': [axis1, axis2, flattened]\n",
    "}`\n",
    "\n",
    "If a list containing less than 9 elements is passed into the function, it should raise a ValueError exception with the message: \"List must contain nine numbers.\" The values in the returned dictionary should be lists and not Numpy arrays.\n",
    "\n",
    "For example, <mark>calculate([0,1,2,3,4,5,6,7,8])</mark> should return:\n",
    "\n",
    "`{\n",
    "  'mean': [[3.0, 4.0, 5.0], [1.0, 4.0, 7.0], 4.0],\n",
    "  'variance': [[6.0, 6.0, 6.0], [0.6666666666666666, 0.6666666666666666, 0.6666666666666666], 6.666666666666667],\n",
    "  'standard deviation': [[2.449489742783178, 2.449489742783178, 2.449489742783178], [0.816496580927726, 0.816496580927726, 0.816496580927726], 2.581988897471611],\n",
    "  'max': [[6, 7, 8], [2, 5, 8], 8],\n",
    "  'min': [[0, 1, 2], [0, 3, 6], 0],\n",
    "  'sum': [[9, 12, 15], [3, 12, 21], 36]\n",
    "}`\n",
    "\n",
    "The unit tests for this project are in <mark>test_module.py</mark>.\n",
    "\n",
    "### Now, let's code!"
   ]
  },
  {
   "cell_type": "code",
   "execution_count": 1,
   "id": "0afa1268",
   "metadata": {},
   "outputs": [],
   "source": [
    "#We will use NumPy library, so first we have to import it\n",
    "\n",
    "import numpy as np"
   ]
  },
  {
   "cell_type": "code",
   "execution_count": 2,
   "id": "f6b6d2aa",
   "metadata": {},
   "outputs": [],
   "source": [
    "#Create the function. Input is a list.\n",
    "\n",
    "def calculate(list):\n",
    "    if len(list) == 9: #Function will perform what's required only if list has 9 numbers\n",
    "        arr=np.array(list).reshape(3, 3) #List should be converted into a 3 x 3 NumPy array    \n",
    "        calculations={} #Output is a dictionary\n",
    "        \n",
    "        #axis=0 equals rows, #axis=1 equals columns, .tolist() converts the array into a list\n",
    "        calculations['mean']=[arr.mean(axis=0).tolist(),arr.mean(axis=1).tolist(),arr.mean()]\n",
    "        calculations['variance']=[arr.var(axis=0).tolist(),arr.var(axis=1).tolist(),arr.var()]\n",
    "        calculations['standard deviation']=[arr.std(axis=0).tolist(),arr.std(axis=1).tolist(),arr.std()]\n",
    "        calculations['max']=[arr.max(axis=0).tolist(),arr.max(axis=1).tolist(),arr.max()]\n",
    "        calculations['min']=[arr.min(axis=0).tolist(),arr.min(axis=1).tolist(),arr.min()]\n",
    "        calculations['sum']=[arr.sum(axis=0).tolist(),arr.sum(axis=1).tolist(),arr.sum()]\n",
    "        \n",
    "        return calculations\n",
    "    \n",
    "    else: #If list has more or less numbers, ValueError will remind that 9 numbers are needed\n",
    "        raise ValueError('List must contain nine numbers')"
   ]
  },
  {
   "cell_type": "code",
   "execution_count": 3,
   "id": "c8d9e820",
   "metadata": {},
   "outputs": [
    {
     "data": {
      "text/plain": [
       "{'mean': [[3.0, 4.0, 5.0], [1.0, 4.0, 7.0], 4.0],\n",
       " 'variance': [[6.0, 6.0, 6.0],\n",
       "  [0.6666666666666666, 0.6666666666666666, 0.6666666666666666],\n",
       "  6.666666666666667],\n",
       " 'standard deviation': [[2.449489742783178,\n",
       "   2.449489742783178,\n",
       "   2.449489742783178],\n",
       "  [0.816496580927726, 0.816496580927726, 0.816496580927726],\n",
       "  2.581988897471611],\n",
       " 'max': [[6, 7, 8], [2, 5, 8], 8],\n",
       " 'min': [[0, 1, 2], [0, 3, 6], 0],\n",
       " 'sum': [[9, 12, 15], [3, 12, 21], 36]}"
      ]
     },
     "execution_count": 3,
     "metadata": {},
     "output_type": "execute_result"
    }
   ],
   "source": [
    "#Test the function, list with 9 elements\n",
    "calculate([0,1,2,3,4,5,6,7,8])"
   ]
  },
  {
   "cell_type": "code",
   "execution_count": 4,
   "id": "9198bc19",
   "metadata": {},
   "outputs": [
    {
     "ename": "ValueError",
     "evalue": "List must contain nine numbers",
     "output_type": "error",
     "traceback": [
      "\u001b[0;31m---------------------------------------------------------------------------\u001b[0m",
      "\u001b[0;31mValueError\u001b[0m                                Traceback (most recent call last)",
      "Input \u001b[0;32mIn [4]\u001b[0m, in \u001b[0;36m<cell line: 2>\u001b[0;34m()\u001b[0m\n\u001b[1;32m      1\u001b[0m \u001b[38;5;66;03m#Test the function, list with 6 elements\u001b[39;00m\n\u001b[0;32m----> 2\u001b[0m \u001b[43mcalculate\u001b[49m\u001b[43m(\u001b[49m\u001b[43m[\u001b[49m\u001b[38;5;241;43m1\u001b[39;49m\u001b[43m,\u001b[49m\u001b[38;5;241;43m2\u001b[39;49m\u001b[43m,\u001b[49m\u001b[38;5;241;43m5\u001b[39;49m\u001b[43m,\u001b[49m\u001b[38;5;241;43m6\u001b[39;49m\u001b[43m,\u001b[49m\u001b[38;5;241;43m7\u001b[39;49m\u001b[43m,\u001b[49m\u001b[38;5;241;43m8\u001b[39;49m\u001b[43m]\u001b[49m\u001b[43m)\u001b[49m\n",
      "Input \u001b[0;32mIn [2]\u001b[0m, in \u001b[0;36mcalculate\u001b[0;34m(list)\u001b[0m\n\u001b[1;32m     16\u001b[0m     \u001b[38;5;28;01mreturn\u001b[39;00m calculations\n\u001b[1;32m     18\u001b[0m \u001b[38;5;28;01melse\u001b[39;00m: \u001b[38;5;66;03m#If list has more or less numbers, ValueError will remind that 9 numbers are needed\u001b[39;00m\n\u001b[0;32m---> 19\u001b[0m     \u001b[38;5;28;01mraise\u001b[39;00m \u001b[38;5;167;01mValueError\u001b[39;00m(\u001b[38;5;124m'\u001b[39m\u001b[38;5;124mList must contain nine numbers\u001b[39m\u001b[38;5;124m'\u001b[39m)\n",
      "\u001b[0;31mValueError\u001b[0m: List must contain nine numbers"
     ]
    }
   ],
   "source": [
    "#Test the function, list with 6 elements\n",
    "calculate([1,2,5,6,7,8])"
   ]
  },
  {
   "cell_type": "markdown",
   "id": "889452d1",
   "metadata": {},
   "source": [
    "### That's all! If you did it in a different way, please feel free to share"
   ]
  }
 ],
 "metadata": {
  "kernelspec": {
   "display_name": "Python 3 (ipykernel)",
   "language": "python",
   "name": "python3"
  },
  "language_info": {
   "codemirror_mode": {
    "name": "ipython",
    "version": 3
   },
   "file_extension": ".py",
   "mimetype": "text/x-python",
   "name": "python",
   "nbconvert_exporter": "python",
   "pygments_lexer": "ipython3",
   "version": "3.9.12"
  }
 },
 "nbformat": 4,
 "nbformat_minor": 5
}
