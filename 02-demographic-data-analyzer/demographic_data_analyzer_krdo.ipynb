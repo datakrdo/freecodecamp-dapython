{
 "cells": [
  {
   "cell_type": "markdown",
   "id": "a8040d80",
   "metadata": {},
   "source": [
    "## <center>freeCodeCamp (🔥) - Data Analysis with Python</center>\n",
    "\n",
    "### Project 2 - Demographic Data Analyzer [🔗](https://www.freecodecamp.org/learn/data-analysis-with-python/data-analysis-with-python-projects/demographic-data-analyzer)\n",
    "\n",
    "In this challenge you must analyze demographic data using Pandas. You are given a dataset of demographic data that was extracted from the 1994 Census database. Here is a sample of what the data looks like:\n",
    "\n",
    "|    |   age | workclass        |   fnlwgt | education   |   education-num | marital-status     | occupation        | relationship   | race   | sex    |   capital-gain |   capital-loss |   hours-per-week | native-country   | salary   |\n",
    "|---:|------:|:-----------------|---------:|:------------|----------------:|:-------------------|:------------------|:---------------|:-------|:-------|---------------:|---------------:|-----------------:|:-----------------|:---------|\n",
    "|  0 |    39 | State-gov        |    77516 | Bachelors   |              13 | Never-married      | Adm-clerical      | Not-in-family  | White  | Male   |           2174 |              0 |               40 | United-States    | <=50K    |\n",
    "|  1 |    50 | Self-emp-not-inc |    83311 | Bachelors   |              13 | Married-civ-spouse | Exec-managerial   | Husband        | White  | Male   |              0 |              0 |               13 | United-States    | <=50K    |\n",
    "|  2 |    38 | Private          |   215646 | HS-grad     |               9 | Divorced           | Handlers-cleaners | Not-in-family  | White  | Male   |              0 |              0 |               40 | United-States    | <=50K    |\n",
    "|  3 |    53 | Private          |   234721 | 11th        |               7 | Married-civ-spouse | Handlers-cleaners | Husband        | Black  | Male   |              0 |              0 |               40 | United-States    | <=50K    |\n",
    "|  4 |    28 | Private          |   338409 | Bachelors   |              13 | Married-civ-spouse | Prof-specialty    | Wife           | Black  | Female |              0 |              0 |               40 | Cuba             | <=50K    |\n",
    "\n",
    "You must use Pandas to answer the following questions:\n",
    "\n",
    "* How many people of each race are represented in this dataset? This should be a Pandas series with <mark>race</mark> names as the index labels. (race column)\n",
    "* What is the average age of men?\n",
    "* What is the percentage of people who have a Bachelor's degree?\n",
    "* What percentage of people with advanced education (<mark>Bachelors</mark>, <mark>Masters</mark>, or <mark>Doctorate</mark>) make more than 50K?\n",
    "* What percentage of people without advanced education make more than 50K?\n",
    "* What is the minimum number of hours a person works per week?\n",
    "* What percentage of the people who work the minimum number of hours per week have a salary of more than 50K?\n",
    "* What country has the highest percentage of people that earn >50K and what is that percentage?\n",
    "* Identify the most popular occupation for those who earn >50K in India.\n",
    "\n",
    "Use the starter code in the file <mark>demographic_data_analyzer</mark>.\n",
    "\n",
    "### Now, let's code!"
   ]
  },
  {
   "cell_type": "code",
   "execution_count": 1,
   "id": "b37eeac6",
   "metadata": {},
   "outputs": [
    {
     "data": {
      "text/html": [
       "<div>\n",
       "<style scoped>\n",
       "    .dataframe tbody tr th:only-of-type {\n",
       "        vertical-align: middle;\n",
       "    }\n",
       "\n",
       "    .dataframe tbody tr th {\n",
       "        vertical-align: top;\n",
       "    }\n",
       "\n",
       "    .dataframe thead th {\n",
       "        text-align: right;\n",
       "    }\n",
       "</style>\n",
       "<table border=\"1\" class=\"dataframe\">\n",
       "  <thead>\n",
       "    <tr style=\"text-align: right;\">\n",
       "      <th></th>\n",
       "      <th>age</th>\n",
       "      <th>workclass</th>\n",
       "      <th>fnlwgt</th>\n",
       "      <th>education</th>\n",
       "      <th>education-num</th>\n",
       "      <th>marital-status</th>\n",
       "      <th>occupation</th>\n",
       "      <th>relationship</th>\n",
       "      <th>race</th>\n",
       "      <th>sex</th>\n",
       "      <th>capital-gain</th>\n",
       "      <th>capital-loss</th>\n",
       "      <th>hours-per-week</th>\n",
       "      <th>native-country</th>\n",
       "      <th>salary</th>\n",
       "    </tr>\n",
       "  </thead>\n",
       "  <tbody>\n",
       "    <tr>\n",
       "      <th>0</th>\n",
       "      <td>39</td>\n",
       "      <td>State-gov</td>\n",
       "      <td>77516</td>\n",
       "      <td>Bachelors</td>\n",
       "      <td>13</td>\n",
       "      <td>Never-married</td>\n",
       "      <td>Adm-clerical</td>\n",
       "      <td>Not-in-family</td>\n",
       "      <td>White</td>\n",
       "      <td>Male</td>\n",
       "      <td>2174</td>\n",
       "      <td>0</td>\n",
       "      <td>40</td>\n",
       "      <td>United-States</td>\n",
       "      <td>&lt;=50K</td>\n",
       "    </tr>\n",
       "    <tr>\n",
       "      <th>1</th>\n",
       "      <td>50</td>\n",
       "      <td>Self-emp-not-inc</td>\n",
       "      <td>83311</td>\n",
       "      <td>Bachelors</td>\n",
       "      <td>13</td>\n",
       "      <td>Married-civ-spouse</td>\n",
       "      <td>Exec-managerial</td>\n",
       "      <td>Husband</td>\n",
       "      <td>White</td>\n",
       "      <td>Male</td>\n",
       "      <td>0</td>\n",
       "      <td>0</td>\n",
       "      <td>13</td>\n",
       "      <td>United-States</td>\n",
       "      <td>&lt;=50K</td>\n",
       "    </tr>\n",
       "    <tr>\n",
       "      <th>2</th>\n",
       "      <td>38</td>\n",
       "      <td>Private</td>\n",
       "      <td>215646</td>\n",
       "      <td>HS-grad</td>\n",
       "      <td>9</td>\n",
       "      <td>Divorced</td>\n",
       "      <td>Handlers-cleaners</td>\n",
       "      <td>Not-in-family</td>\n",
       "      <td>White</td>\n",
       "      <td>Male</td>\n",
       "      <td>0</td>\n",
       "      <td>0</td>\n",
       "      <td>40</td>\n",
       "      <td>United-States</td>\n",
       "      <td>&lt;=50K</td>\n",
       "    </tr>\n",
       "    <tr>\n",
       "      <th>3</th>\n",
       "      <td>53</td>\n",
       "      <td>Private</td>\n",
       "      <td>234721</td>\n",
       "      <td>11th</td>\n",
       "      <td>7</td>\n",
       "      <td>Married-civ-spouse</td>\n",
       "      <td>Handlers-cleaners</td>\n",
       "      <td>Husband</td>\n",
       "      <td>Black</td>\n",
       "      <td>Male</td>\n",
       "      <td>0</td>\n",
       "      <td>0</td>\n",
       "      <td>40</td>\n",
       "      <td>United-States</td>\n",
       "      <td>&lt;=50K</td>\n",
       "    </tr>\n",
       "    <tr>\n",
       "      <th>4</th>\n",
       "      <td>28</td>\n",
       "      <td>Private</td>\n",
       "      <td>338409</td>\n",
       "      <td>Bachelors</td>\n",
       "      <td>13</td>\n",
       "      <td>Married-civ-spouse</td>\n",
       "      <td>Prof-specialty</td>\n",
       "      <td>Wife</td>\n",
       "      <td>Black</td>\n",
       "      <td>Female</td>\n",
       "      <td>0</td>\n",
       "      <td>0</td>\n",
       "      <td>40</td>\n",
       "      <td>Cuba</td>\n",
       "      <td>&lt;=50K</td>\n",
       "    </tr>\n",
       "  </tbody>\n",
       "</table>\n",
       "</div>"
      ],
      "text/plain": [
       "   age         workclass  fnlwgt  education  education-num  \\\n",
       "0   39         State-gov   77516  Bachelors             13   \n",
       "1   50  Self-emp-not-inc   83311  Bachelors             13   \n",
       "2   38           Private  215646    HS-grad              9   \n",
       "3   53           Private  234721       11th              7   \n",
       "4   28           Private  338409  Bachelors             13   \n",
       "\n",
       "       marital-status         occupation   relationship   race     sex  \\\n",
       "0       Never-married       Adm-clerical  Not-in-family  White    Male   \n",
       "1  Married-civ-spouse    Exec-managerial        Husband  White    Male   \n",
       "2            Divorced  Handlers-cleaners  Not-in-family  White    Male   \n",
       "3  Married-civ-spouse  Handlers-cleaners        Husband  Black    Male   \n",
       "4  Married-civ-spouse     Prof-specialty           Wife  Black  Female   \n",
       "\n",
       "   capital-gain  capital-loss  hours-per-week native-country salary  \n",
       "0          2174             0              40  United-States  <=50K  \n",
       "1             0             0              13  United-States  <=50K  \n",
       "2             0             0              40  United-States  <=50K  \n",
       "3             0             0              40  United-States  <=50K  \n",
       "4             0             0              40           Cuba  <=50K  "
      ]
     },
     "execution_count": 1,
     "metadata": {},
     "output_type": "execute_result"
    }
   ],
   "source": [
    "#We will use Pandas library, so first we have to import it and read the .csv\n",
    "\n",
    "import pandas as pd\n",
    "\n",
    "df=pd.read_csv('adult.data.csv')\n",
    "df.head()"
   ]
  },
  {
   "cell_type": "code",
   "execution_count": 2,
   "id": "a6c03cc3",
   "metadata": {},
   "outputs": [
    {
     "data": {
      "text/plain": [
       "White                 27816\n",
       "Black                  3124\n",
       "Asian-Pac-Islander     1039\n",
       "Amer-Indian-Eskimo      311\n",
       "Other                   271\n",
       "Name: race, dtype: int64"
      ]
     },
     "execution_count": 2,
     "metadata": {},
     "output_type": "execute_result"
    }
   ],
   "source": [
    "#How many of each race are represented in this dataset? This should be a Pandas series with race names as the index labels.\n",
    "race_count=df['race'].value_counts()\n",
    "race_count"
   ]
  },
  {
   "cell_type": "code",
   "execution_count": 3,
   "id": "65754ec4",
   "metadata": {},
   "outputs": [
    {
     "name": "stdout",
     "output_type": "stream",
     "text": [
      "The average age of men is 39.4 years\n"
     ]
    }
   ],
   "source": [
    "# What is the average age of men?\n",
    "average_age_men = round(df[df['sex'] == 'Male'].age.mean(),1)\n",
    "print(f'The average age of men is {average_age_men} years')"
   ]
  },
  {
   "cell_type": "code",
   "execution_count": 4,
   "id": "ba31a28b",
   "metadata": {},
   "outputs": [
    {
     "name": "stdout",
     "output_type": "stream",
     "text": [
      "The percentage of people who have a Bachelor's degree is 16.4%\n"
     ]
    }
   ],
   "source": [
    "# What is the percentage of people who have a Bachelor's degree?\n",
    "percentage_bachelors= round(df['education'].value_counts().loc['Bachelors']/df['education'].count()*100,1)\n",
    "print(f\"The percentage of people who have a Bachelor's degree is {percentage_bachelors}%\")"
   ]
  },
  {
   "cell_type": "code",
   "execution_count": 5,
   "id": "8d9a79b5",
   "metadata": {},
   "outputs": [
    {
     "name": "stdout",
     "output_type": "stream",
     "text": [
      "46.5% of people with advanced education (\"Bachelors\", \"Masters\", or \"Doctorate\") make more than 50K\n",
      "17.4% of people without advanced education make more than 50K\n"
     ]
    }
   ],
   "source": [
    "# What percentage of people with advanced education (`Bachelors`, `Masters`, or `Doctorate`) make more than 50K?\n",
    "# What percentage of people without advanced education make more than 50K?\n",
    "\n",
    "# with and without `Bachelors`, `Masters`, or `Doctorate`\n",
    "higher_education = df[df['education'].isin(['Bachelors','Masters','Doctorate'])].shape[0]\n",
    "lower_education = df[~df['education'].isin(['Bachelors','Masters','Doctorate'])].shape[0]\n",
    "\n",
    "# percentage with salary >50K\n",
    "higher_education_rich = round(df.loc[(df[\"salary\"]  == '>50K') & df['education'].isin(['Bachelors','Masters','Doctorate'])].shape[0] / higher_education * 100, 1)\n",
    "lower_education_rich = round(df.loc[(df[\"salary\"]  == '>50K') & ~df['education'].isin(['Bachelors','Masters','Doctorate'])].shape[0] / lower_education * 100, 1)\n",
    "\n",
    "print(f'{higher_education_rich}% of people with advanced education (\"Bachelors\", \"Masters\", or \"Doctorate\") make more than 50K')\n",
    "print(f'{lower_education_rich}% of people without advanced education make more than 50K')"
   ]
  },
  {
   "cell_type": "code",
   "execution_count": 6,
   "id": "e289112e",
   "metadata": {},
   "outputs": [
    {
     "name": "stdout",
     "output_type": "stream",
     "text": [
      "Minimum number of hours a person works per week: 1\n"
     ]
    }
   ],
   "source": [
    "# What is the minimum number of hours a person works per week (hours-per-week feature)?\n",
    "min_work_hours = df['hours-per-week'].min()\n",
    "print(f'Minimum number of hours a person works per week: {min_work_hours}')"
   ]
  },
  {
   "cell_type": "code",
   "execution_count": 7,
   "id": "89fc691a",
   "metadata": {},
   "outputs": [
    {
     "name": "stdout",
     "output_type": "stream",
     "text": [
      "10% of the people who work 1 hours per week have a salary of >50K\n"
     ]
    }
   ],
   "source": [
    "# What percentage of the people who work the minimum number of hours per week have a salary of >50K?\n",
    "num_min_workers = df['hours-per-week'].value_counts()[min_work_hours]\n",
    "\n",
    "rich_percentage = int(df[(df['hours-per-week'] == min_work_hours) & (df[\"salary\"]  == '>50K')].shape[0] / num_min_workers * 100)\n",
    "print(f'{rich_percentage}% of the people who work {min_work_hours} hours per week have a salary of >50K')"
   ]
  },
  {
   "cell_type": "code",
   "execution_count": 8,
   "id": "ffa1ef07",
   "metadata": {},
   "outputs": [
    {
     "name": "stdout",
     "output_type": "stream",
     "text": [
      "The highest earning country is Iran with a 41.9% of the population earning >50K\n"
     ]
    }
   ],
   "source": [
    "# What country has the highest percentage of people that earn >50K?\n",
    "\n",
    "highest_earning_country = (df[df['salary'] == '>50K']['native-country'].value_counts()/ df['native-country'].value_counts() * 100).sort_values(ascending=False).fillna(0).idxmax()\n",
    "\n",
    "# What is that percentage?\n",
    "highest_earning_country_percentage = round(df[(df['salary'] == '>50K') & (df[\"native-country\"]  == 'Iran')].shape[0] / df[\"native-country\"].value_counts()[highest_earning_country] * 100, 1)\n",
    "\n",
    "print(f'The highest earning country is {highest_earning_country} with a {highest_earning_country_percentage}% of the population earning >50K')\n"
   ]
  },
  {
   "cell_type": "code",
   "execution_count": 9,
   "id": "f7c3c6be",
   "metadata": {},
   "outputs": [
    {
     "name": "stdout",
     "output_type": "stream",
     "text": [
      "The most popular occupation for those who earn >50K in India is Prof-specialty\n"
     ]
    }
   ],
   "source": [
    "# Identify the most popular occupation for those who earn >50K in India.\n",
    "earn_India= df[(df['salary'] == '>50K') & (df[\"native-country\"]  == 'India')]\n",
    "\n",
    "top_IN_occupation = earn_India['occupation'].value_counts().idxmax()\n",
    "print(f'The most popular occupation for those who earn >50K in India is {top_IN_occupation}')"
   ]
  },
  {
   "cell_type": "markdown",
   "id": "28f686c6",
   "metadata": {},
   "source": [
    "### That's all! If you did it in a different way, please feel free to share"
   ]
  }
 ],
 "metadata": {
  "kernelspec": {
   "display_name": "Python 3 (ipykernel)",
   "language": "python",
   "name": "python3"
  },
  "language_info": {
   "codemirror_mode": {
    "name": "ipython",
    "version": 3
   },
   "file_extension": ".py",
   "mimetype": "text/x-python",
   "name": "python",
   "nbconvert_exporter": "python",
   "pygments_lexer": "ipython3",
   "version": "3.9.12"
  }
 },
 "nbformat": 4,
 "nbformat_minor": 5
}
